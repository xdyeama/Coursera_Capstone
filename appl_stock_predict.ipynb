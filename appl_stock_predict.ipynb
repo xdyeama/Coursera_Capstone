{
  "nbformat": 4,
  "nbformat_minor": 0,
  "metadata": {
    "colab": {
      "name": "appl_stock_predict.ipynb",
      "provenance": [],
      "toc_visible": true
    },
    "kernelspec": {
      "name": "python3",
      "display_name": "Python 3"
    }
  },
  "cells": [
    {
      "cell_type": "code",
      "metadata": {
        "id": "D5Q2RpkGwQIg"
      },
      "source": [
        "import pandas as pd\n",
        "import numpy as np\n",
        "import tensorflow as tf\n",
        "from datetime import timedelta\n",
        "from sklearn.preprocessing import StandardScaler\n",
        "from sklearn.metrics import mean_absolute_error\n",
        "from matplotlib import pyplot as plt\n",
        "from typing import List"
      ],
      "execution_count": null,
      "outputs": []
    },
    {
      "cell_type": "markdown",
      "metadata": {
        "id": "naEzJRLJqi6q"
      },
      "source": [
        "## Data analysis using Pandas\n"
      ]
    },
    {
      "cell_type": "code",
      "metadata": {
        "id": "AUoGvmgVwuOO"
      },
      "source": [
        "# Using pandas to import our apple stock dataset\n",
        "df = pd.read_csv('aapl.us.txt', parse_dates=['Date'])"
      ],
      "execution_count": null,
      "outputs": []
    },
    {
      "cell_type": "code",
      "metadata": {
        "colab": {
          "base_uri": "https://localhost:8080/"
        },
        "id": "9IAoqW_LxvH4",
        "outputId": "79a96e76-e1e2-4d33-8da5-bf0343272cbb"
      },
      "source": [
        "df.shape"
      ],
      "execution_count": null,
      "outputs": [
        {
          "output_type": "execute_result",
          "data": {
            "text/plain": [
              "(8364, 7)"
            ]
          },
          "metadata": {
            "tags": []
          },
          "execution_count": 5
        }
      ]
    },
    {
      "cell_type": "code",
      "metadata": {
        "colab": {
          "base_uri": "https://localhost:8080/",
          "height": 204
        },
        "id": "Ltq5bhKox7aC",
        "outputId": "8954dd93-8985-459e-a75a-3d524d77a82a"
      },
      "source": [
        "df.head()"
      ],
      "execution_count": null,
      "outputs": [
        {
          "output_type": "execute_result",
          "data": {
            "text/html": [
              "<div>\n",
              "<style scoped>\n",
              "    .dataframe tbody tr th:only-of-type {\n",
              "        vertical-align: middle;\n",
              "    }\n",
              "\n",
              "    .dataframe tbody tr th {\n",
              "        vertical-align: top;\n",
              "    }\n",
              "\n",
              "    .dataframe thead th {\n",
              "        text-align: right;\n",
              "    }\n",
              "</style>\n",
              "<table border=\"1\" class=\"dataframe\">\n",
              "  <thead>\n",
              "    <tr style=\"text-align: right;\">\n",
              "      <th></th>\n",
              "      <th>Date</th>\n",
              "      <th>Open</th>\n",
              "      <th>High</th>\n",
              "      <th>Low</th>\n",
              "      <th>Close</th>\n",
              "      <th>Volume</th>\n",
              "      <th>OpenInt</th>\n",
              "    </tr>\n",
              "  </thead>\n",
              "  <tbody>\n",
              "    <tr>\n",
              "      <th>0</th>\n",
              "      <td>1984-09-07</td>\n",
              "      <td>0.42388</td>\n",
              "      <td>0.42902</td>\n",
              "      <td>0.41874</td>\n",
              "      <td>0.42388</td>\n",
              "      <td>23220030</td>\n",
              "      <td>0</td>\n",
              "    </tr>\n",
              "    <tr>\n",
              "      <th>1</th>\n",
              "      <td>1984-09-10</td>\n",
              "      <td>0.42388</td>\n",
              "      <td>0.42516</td>\n",
              "      <td>0.41366</td>\n",
              "      <td>0.42134</td>\n",
              "      <td>18022532</td>\n",
              "      <td>0</td>\n",
              "    </tr>\n",
              "    <tr>\n",
              "      <th>2</th>\n",
              "      <td>1984-09-11</td>\n",
              "      <td>0.42516</td>\n",
              "      <td>0.43668</td>\n",
              "      <td>0.42516</td>\n",
              "      <td>0.42902</td>\n",
              "      <td>42498199</td>\n",
              "      <td>0</td>\n",
              "    </tr>\n",
              "    <tr>\n",
              "      <th>3</th>\n",
              "      <td>1984-09-12</td>\n",
              "      <td>0.42902</td>\n",
              "      <td>0.43157</td>\n",
              "      <td>0.41618</td>\n",
              "      <td>0.41618</td>\n",
              "      <td>37125801</td>\n",
              "      <td>0</td>\n",
              "    </tr>\n",
              "    <tr>\n",
              "      <th>4</th>\n",
              "      <td>1984-09-13</td>\n",
              "      <td>0.43927</td>\n",
              "      <td>0.44052</td>\n",
              "      <td>0.43927</td>\n",
              "      <td>0.43927</td>\n",
              "      <td>57822062</td>\n",
              "      <td>0</td>\n",
              "    </tr>\n",
              "  </tbody>\n",
              "</table>\n",
              "</div>"
            ],
            "text/plain": [
              "        Date     Open     High      Low    Close    Volume  OpenInt\n",
              "0 1984-09-07  0.42388  0.42902  0.41874  0.42388  23220030        0\n",
              "1 1984-09-10  0.42388  0.42516  0.41366  0.42134  18022532        0\n",
              "2 1984-09-11  0.42516  0.43668  0.42516  0.42902  42498199        0\n",
              "3 1984-09-12  0.42902  0.43157  0.41618  0.41618  37125801        0\n",
              "4 1984-09-13  0.43927  0.44052  0.43927  0.43927  57822062        0"
            ]
          },
          "metadata": {
            "tags": []
          },
          "execution_count": 6
        }
      ]
    },
    {
      "cell_type": "code",
      "metadata": {
        "colab": {
          "base_uri": "https://localhost:8080/"
        },
        "id": "aSCqOeHqx-FL",
        "outputId": "bb4cbd45-5792-4157-cada-b794d8e5b625"
      },
      "source": [
        "df['Date'].min(), df['Date'].max()"
      ],
      "execution_count": null,
      "outputs": [
        {
          "output_type": "execute_result",
          "data": {
            "text/plain": [
              "(Timestamp('1984-09-07 00:00:00'), Timestamp('2017-11-10 00:00:00'))"
            ]
          },
          "metadata": {
            "tags": []
          },
          "execution_count": 7
        }
      ]
    },
    {
      "cell_type": "code",
      "metadata": {
        "colab": {
          "base_uri": "https://localhost:8080/",
          "height": 286
        },
        "id": "rDUSpgqlyHMK",
        "outputId": "fd5ef406-503d-4d4d-f3d6-9058fe4f414d"
      },
      "source": [
        "df.plot(x = 'Date', y = 'Open')"
      ],
      "execution_count": null,
      "outputs": [
        {
          "output_type": "execute_result",
          "data": {
            "text/plain": [
              "<matplotlib.axes._subplots.AxesSubplot at 0x7f932e72cf50>"
            ]
          },
          "metadata": {
            "tags": []
          },
          "execution_count": 8
        },
        {
          "output_type": "display_data",
          "data": {
            "image/png": "[encoded data removed]",
            "text/plain": [
              "<Figure size 432x288 with 1 Axes>"
            ]
          },
          "metadata": {
            "tags": [],
            "needs_background": "light"
          }
        }
      ]
    },
    {
      "cell_type": "code",
      "metadata": {
        "colab": {
          "base_uri": "https://localhost:8080/",
          "height": 286
        },
        "id": "lTJEfhjayXe1",
        "outputId": "fa934b19-df2f-43fa-f7fb-16779a5858cc"
      },
      "source": [
        "df.plot(x = 'Date', y = 'High')"
      ],
      "execution_count": null,
      "outputs": [
        {
          "output_type": "execute_result",
          "data": {
            "text/plain": [
              "<matplotlib.axes._subplots.AxesSubplot at 0x7f932e602a90>"
            ]
          },
          "metadata": {
            "tags": []
          },
          "execution_count": 9
        },
        {
          "output_type": "display_data",
          "data": {
            "image/png": "[encoded data removed]",
            "text/plain": [
              "<Figure size 432x288 with 1 Axes>"
            ]
          },
          "metadata": {
            "tags": [],
            "needs_background": "light"
          }
        }
      ]
    },
    {
      "cell_type": "code",
      "metadata": {
        "colab": {
          "base_uri": "https://localhost:8080/",
          "height": 173
        },
        "id": "3kZI_WAZye-e",
        "outputId": "bb8afa94-1847-4753-9be0-c330b6e44d7b"
      },
      "source": [
        "df[['Open', 'Close', 'Low', 'High']].corr()"
      ],
      "execution_count": null,
      "outputs": [
        {
          "output_type": "execute_result",
          "data": {
            "text/html": [
              "<div>\n",
              "<style scoped>\n",
              "    .dataframe tbody tr th:only-of-type {\n",
              "        vertical-align: middle;\n",
              "    }\n",
              "\n",
              "    .dataframe tbody tr th {\n",
              "        vertical-align: top;\n",
              "    }\n",
              "\n",
              "    .dataframe thead th {\n",
              "        text-align: right;\n",
              "    }\n",
              "</style>\n",
              "<table border=\"1\" class=\"dataframe\">\n",
              "  <thead>\n",
              "    <tr style=\"text-align: right;\">\n",
              "      <th></th>\n",
              "      <th>Open</th>\n",
              "      <th>Close</th>\n",
              "      <th>Low</th>\n",
              "      <th>High</th>\n",
              "    </tr>\n",
              "  </thead>\n",
              "  <tbody>\n",
              "    <tr>\n",
              "      <th>Open</th>\n",
              "      <td>1.000000</td>\n",
              "      <td>0.999902</td>\n",
              "      <td>0.999942</td>\n",
              "      <td>0.999956</td>\n",
              "    </tr>\n",
              "    <tr>\n",
              "      <th>Close</th>\n",
              "      <td>0.999902</td>\n",
              "      <td>1.000000</td>\n",
              "      <td>0.999955</td>\n",
              "      <td>0.999953</td>\n",
              "    </tr>\n",
              "    <tr>\n",
              "      <th>Low</th>\n",
              "      <td>0.999942</td>\n",
              "      <td>0.999955</td>\n",
              "      <td>1.000000</td>\n",
              "      <td>0.999928</td>\n",
              "    </tr>\n",
              "    <tr>\n",
              "      <th>High</th>\n",
              "      <td>0.999956</td>\n",
              "      <td>0.999953</td>\n",
              "      <td>0.999928</td>\n",
              "      <td>1.000000</td>\n",
              "    </tr>\n",
              "  </tbody>\n",
              "</table>\n",
              "</div>"
            ],
            "text/plain": [
              "           Open     Close       Low      High\n",
              "Open   1.000000  0.999902  0.999942  0.999956\n",
              "Close  0.999902  1.000000  0.999955  0.999953\n",
              "Low    0.999942  0.999955  1.000000  0.999928\n",
              "High   0.999956  0.999953  0.999928  1.000000"
            ]
          },
          "metadata": {
            "tags": []
          },
          "execution_count": 10
        }
      ]
    },
    {
      "cell_type": "code",
      "metadata": {
        "id": "WsiZoY6yyp5R"
      },
      "source": [
        "df_6_yr = df[df['Date'] > df['Date'].max() - timedelta(days = 365 * 6)]"
      ],
      "execution_count": null,
      "outputs": []
    },
    {
      "cell_type": "code",
      "metadata": {
        "colab": {
          "base_uri": "https://localhost:8080/",
          "height": 204
        },
        "id": "pUWwEeJBzGF2",
        "outputId": "e428eb7b-8b37-450e-c499-8fa8dd800d83"
      },
      "source": [
        "df_6_yr.head()"
      ],
      "execution_count": null,
      "outputs": [
        {
          "output_type": "execute_result",
          "data": {
            "text/html": [
              "<div>\n",
              "<style scoped>\n",
              "    .dataframe tbody tr th:only-of-type {\n",
              "        vertical-align: middle;\n",
              "    }\n",
              "\n",
              "    .dataframe tbody tr th {\n",
              "        vertical-align: top;\n",
              "    }\n",
              "\n",
              "    .dataframe thead th {\n",
              "        text-align: right;\n",
              "    }\n",
              "</style>\n",
              "<table border=\"1\" class=\"dataframe\">\n",
              "  <thead>\n",
              "    <tr style=\"text-align: right;\">\n",
              "      <th></th>\n",
              "      <th>Date</th>\n",
              "      <th>Open</th>\n",
              "      <th>High</th>\n",
              "      <th>Low</th>\n",
              "      <th>Close</th>\n",
              "      <th>Volume</th>\n",
              "      <th>OpenInt</th>\n",
              "    </tr>\n",
              "  </thead>\n",
              "  <tbody>\n",
              "    <tr>\n",
              "      <th>6855</th>\n",
              "      <td>2011-11-14</td>\n",
              "      <td>49.187</td>\n",
              "      <td>49.337</td>\n",
              "      <td>48.432</td>\n",
              "      <td>48.570</td>\n",
              "      <td>120687460</td>\n",
              "      <td>0</td>\n",
              "    </tr>\n",
              "    <tr>\n",
              "      <th>6856</th>\n",
              "      <td>2011-11-15</td>\n",
              "      <td>48.768</td>\n",
              "      <td>49.880</td>\n",
              "      <td>48.592</td>\n",
              "      <td>49.796</td>\n",
              "      <td>120066631</td>\n",
              "      <td>0</td>\n",
              "    </tr>\n",
              "    <tr>\n",
              "      <th>6857</th>\n",
              "      <td>2011-11-16</td>\n",
              "      <td>49.873</td>\n",
              "      <td>50.092</td>\n",
              "      <td>49.217</td>\n",
              "      <td>49.274</td>\n",
              "      <td>97180914</td>\n",
              "      <td>0</td>\n",
              "    </tr>\n",
              "    <tr>\n",
              "      <th>6858</th>\n",
              "      <td>2011-11-17</td>\n",
              "      <td>49.167</td>\n",
              "      <td>49.249</td>\n",
              "      <td>48.086</td>\n",
              "      <td>48.333</td>\n",
              "      <td>133785074</td>\n",
              "      <td>0</td>\n",
              "    </tr>\n",
              "    <tr>\n",
              "      <th>6859</th>\n",
              "      <td>2011-11-18</td>\n",
              "      <td>48.524</td>\n",
              "      <td>48.663</td>\n",
              "      <td>48.009</td>\n",
              "      <td>48.017</td>\n",
              "      <td>103705732</td>\n",
              "      <td>0</td>\n",
              "    </tr>\n",
              "  </tbody>\n",
              "</table>\n",
              "</div>"
            ],
            "text/plain": [
              "           Date    Open    High     Low   Close     Volume  OpenInt\n",
              "6855 2011-11-14  49.187  49.337  48.432  48.570  120687460        0\n",
              "6856 2011-11-15  48.768  49.880  48.592  49.796  120066631        0\n",
              "6857 2011-11-16  49.873  50.092  49.217  49.274   97180914        0\n",
              "6858 2011-11-17  49.167  49.249  48.086  48.333  133785074        0\n",
              "6859 2011-11-18  48.524  48.663  48.009  48.017  103705732        0"
            ]
          },
          "metadata": {
            "tags": []
          },
          "execution_count": 12
        }
      ]
    },
    {
      "cell_type": "code",
      "metadata": {
        "colab": {
          "base_uri": "https://localhost:8080/"
        },
        "id": "uF0Kv957zIVP",
        "outputId": "151988fd-1139-442a-e1cf-0e513fad185d"
      },
      "source": [
        "df_6_yr.shape"
      ],
      "execution_count": null,
      "outputs": [
        {
          "output_type": "execute_result",
          "data": {
            "text/plain": [
              "(1509, 7)"
            ]
          },
          "metadata": {
            "tags": []
          },
          "execution_count": 13
        }
      ]
    },
    {
      "cell_type": "code",
      "metadata": {
        "colab": {
          "base_uri": "https://localhost:8080/"
        },
        "id": "R0m02iqzzVJq",
        "outputId": "ab05bb11-55d2-43be-a25f-289a73fa0572"
      },
      "source": [
        "df_6_yr['Date'].min(), df_6_yr['Date'].max()"
      ],
      "execution_count": null,
      "outputs": [
        {
          "output_type": "execute_result",
          "data": {
            "text/plain": [
              "(Timestamp('2011-11-14 00:00:00'), Timestamp('2017-11-10 00:00:00'))"
            ]
          },
          "metadata": {
            "tags": []
          },
          "execution_count": 14
        }
      ]
    },
    {
      "cell_type": "code",
      "metadata": {
        "id": "DooWgFJLza-G"
      },
      "source": [
        "train_size  = int(df_6_yr.shape[0] * 0.8)\n",
        "train_df = df_6_yr.iloc[:train_size]\n",
        "test_df = df_6_yr.iloc[train_size:]"
      ],
      "execution_count": null,
      "outputs": []
    },
    {
      "cell_type": "code",
      "metadata": {
        "colab": {
          "base_uri": "https://localhost:8080/"
        },
        "id": "yC5AY8HBz-fa",
        "outputId": "69e2c893-3ca0-41de-e27a-a488cb8ad001"
      },
      "source": [
        "train_df.shape, test_df.shape"
      ],
      "execution_count": null,
      "outputs": [
        {
          "output_type": "execute_result",
          "data": {
            "text/plain": [
              "((1207, 7), (302, 7))"
            ]
          },
          "metadata": {
            "tags": []
          },
          "execution_count": 16
        }
      ]
    },
    {
      "cell_type": "code",
      "metadata": {
        "colab": {
          "base_uri": "https://localhost:8080/"
        },
        "id": "rOgixxVI0I93",
        "outputId": "2b26b40a-2b52-4127-cf6b-000a0583d6f4"
      },
      "source": [
        "train_df['Date'].min(), train_df['Date'].max(), test_df['Date'].min(), test_df['Date'].max()"
      ],
      "execution_count": null,
      "outputs": [
        {
          "output_type": "execute_result",
          "data": {
            "text/plain": [
              "(Timestamp('2011-11-14 00:00:00'),\n",
              " Timestamp('2016-08-31 00:00:00'),\n",
              " Timestamp('2016-09-01 00:00:00'),\n",
              " Timestamp('2017-11-10 00:00:00'))"
            ]
          },
          "metadata": {
            "tags": []
          },
          "execution_count": 17
        }
      ]
    },
    {
      "cell_type": "markdown",
      "metadata": {
        "id": "Xd8QHwY_qxhG"
      },
      "source": [
        "### Creating a dataset for time series"
      ]
    },
    {
      "cell_type": "code",
      "metadata": {
        "id": "jS8iVSLz0j86"
      },
      "source": [
        "# scaler is a  PYthon library used for features normalization\n",
        "scaler = StandardScaler()\n",
        "scaler.fit(train_df[['Low']])\n",
        "\n",
        "def make_dataset(df, # input df\n",
        "                 window_size, #number of elements in time series that are used to predict next element\n",
        "                 batch_size, # number of elements in the batch used for learning, training\n",
        "                 use_scaler = True, # Use the scaler or not\n",
        "                 shuffle = True): # Shuffling the elements in the dataset or not\n",
        "                 # Need to remove n last elements from dataframe\n",
        "                 features = df[['Low']].iloc[:-window_size]\n",
        "                 \n",
        "                 if use_scaler:\n",
        "                   features = scaler.transform(features) # Use scaler\n",
        "                 data = np.array(features, dtype = np.float32)\n",
        "                 ds = tf.keras.preprocessing.timeseries_dataset_from_array(\n",
        "                     data = data, \n",
        "                     targets = df['Low'].iloc[window_size:],\n",
        "                     sequence_length = window_size,\n",
        "                     sequence_stride = 1,\n",
        "                     shuffle = shuffle,\n",
        "                     batch_size = batch_size\n",
        "                 )\n",
        "                 return ds\n",
        "                  \n",
        "                "
      ],
      "execution_count": null,
      "outputs": []
    },
    {
      "cell_type": "code",
      "metadata": {
        "id": "k8zJ4FlyuISM"
      },
      "source": [
        "example_ds = make_dataset(df = train_df, window_size = 3, batch_size = 2, use_scaler = False, shuffle = False)"
      ],
      "execution_count": null,
      "outputs": []
    },
    {
      "cell_type": "code",
      "metadata": {
        "id": "XtNiiTFGuXpT"
      },
      "source": [
        "example_feature, example_label = next(example_ds.as_numpy_iterator())"
      ],
      "execution_count": null,
      "outputs": []
    },
    {
      "cell_type": "code",
      "metadata": {
        "colab": {
          "base_uri": "https://localhost:8080/"
        },
        "id": "HJIys33Iun57",
        "outputId": "81a396f7-be6c-4301-b884-72e9669fc557"
      },
      "source": [
        "example_feature.shape"
      ],
      "execution_count": null,
      "outputs": [
        {
          "output_type": "execute_result",
          "data": {
            "text/plain": [
              "(2, 3, 1)"
            ]
          },
          "metadata": {
            "tags": []
          },
          "execution_count": 22
        }
      ]
    },
    {
      "cell_type": "code",
      "metadata": {
        "colab": {
          "base_uri": "https://localhost:8080/"
        },
        "id": "uBvwpKEnuqVl",
        "outputId": "a7dc2d5b-4497-497d-980f-bbf39c45a371"
      },
      "source": [
        "example_label.shape"
      ],
      "execution_count": null,
      "outputs": [
        {
          "output_type": "execute_result",
          "data": {
            "text/plain": [
              "(2,)"
            ]
          },
          "metadata": {
            "tags": []
          },
          "execution_count": 23
        }
      ]
    },
    {
      "cell_type": "code",
      "metadata": {
        "colab": {
          "base_uri": "https://localhost:8080/"
        },
        "id": "QL2F3_bmuz8e",
        "outputId": "863738c7-9508-4c08-830f-eef48e96b171"
      },
      "source": [
        "train_df['Low'].iloc[:6]"
      ],
      "execution_count": null,
      "outputs": [
        {
          "output_type": "execute_result",
          "data": {
            "text/plain": [
              "6855    48.432\n",
              "6856    48.592\n",
              "6857    49.217\n",
              "6858    48.086\n",
              "6859    48.009\n",
              "6860    46.860\n",
              "Name: Low, dtype: float64"
            ]
          },
          "metadata": {
            "tags": []
          },
          "execution_count": 25
        }
      ]
    },
    {
      "cell_type": "code",
      "metadata": {
        "colab": {
          "base_uri": "https://localhost:8080/"
        },
        "id": "-U2bplgjvH9H",
        "outputId": "b751d2da-cadd-49fb-e86a-6f05ae5f0312"
      },
      "source": [
        "print(example_feature[0])\n",
        "print(example_label[0])"
      ],
      "execution_count": null,
      "outputs": [
        {
          "output_type": "stream",
          "text": [
            "[[48.432]\n",
            " [48.592]\n",
            " [49.217]]\n",
            "48.086000000000006\n"
          ],
          "name": "stdout"
        }
      ]
    },
    {
      "cell_type": "code",
      "metadata": {
        "colab": {
          "base_uri": "https://localhost:8080/"
        },
        "id": "B6LWAeLrvOJB",
        "outputId": "e3cecdd1-d652-4bf9-a349-3979d135f9e4"
      },
      "source": [
        "print(example_feature[1])\n",
        "print(example_label[1])"
      ],
      "execution_count": null,
      "outputs": [
        {
          "output_type": "stream",
          "text": [
            "[[48.592]\n",
            " [49.217]\n",
            " [48.086]]\n",
            "48.00899999999999\n"
          ],
          "name": "stdout"
        }
      ]
    },
    {
      "cell_type": "code",
      "metadata": {
        "id": "2tSNxErRvSIO"
      },
      "source": [
        "window_size = 10\n",
        "batch_size = 8\n",
        "train_ds = make_dataset(df = train_df, window_size = window_size, batch_size = batch_size , use_scaler = True, shuffle = True)\n",
        "test_ds = make_dataset(df = test_df, window_size = window_size, batch_size = batch_size , use_scaler = True, shuffle = True)"
      ],
      "execution_count": null,
      "outputs": []
    },
    {
      "cell_type": "markdown",
      "metadata": {
        "id": "N5c_c3l0yH7S"
      },
      "source": [
        "## Reccurent Neural Network model"
      ]
    },
    {
      "cell_type": "code",
      "metadata": {
        "id": "UfRVYSlPxA8P"
      },
      "source": [
        "lstm_model = tf.keras.models.Sequential([\n",
        "    tf.keras.layers.LSTM(32, return_sequences=False),\n",
        "    tf.keras.layers.Dense(1)\n",
        "])"
      ],
      "execution_count": null,
      "outputs": []
    },
    {
      "cell_type": "code",
      "metadata": {
        "id": "ylx4we8fyEF7"
      },
      "source": [
        "def compile_and_fit(model, train_ds, test_ds, num_epochs: int = 20):\n",
        "  # Compilational model with loss model of Mean Squared Error, optimization algorithm of Adam and metrics with Mean Absolute Error\n",
        "  model.compile(\n",
        "      loss = tf.losses.MeanSquaredError(),\n",
        "      optimizer = tf.optimizers.Adam(),\n",
        "      metrics = [tf.metrics.MeanAbsoluteError()]\n",
        "  )\n",
        "  # Training of our RNN model\n",
        "  history = model.fit(\n",
        "    train_ds, \n",
        "    epochs = num_epochs,\n",
        "    validation_data = test_ds,\n",
        "    verbose = 0  \n",
        "  )\n",
        "  return history"
      ],
      "execution_count": null,
      "outputs": []
    },
    {
      "cell_type": "code",
      "metadata": {
        "id": "dSQP0Vu3zBjE"
      },
      "source": [
        "# Training our model\n",
        "history = compile_and_fit(lstm_model, train_ds, test_ds, num_epochs = 100)"
      ],
      "execution_count": null,
      "outputs": []
    },
    {
      "cell_type": "code",
      "metadata": {
        "colab": {
          "base_uri": "https://localhost:8080/",
          "height": 282
        },
        "id": "sPTzBT4gz1v_",
        "outputId": "23634117-c323-4d37-ced6-92e85d7eb0b7"
      },
      "source": [
        "plt.plot(history.history['mean_absolute_error'])"
      ],
      "execution_count": null,
      "outputs": [
        {
          "output_type": "execute_result",
          "data": {
            "text/plain": [
              "[<matplotlib.lines.Line2D at 0x7f9322c86dd0>]"
            ]
          },
          "metadata": {
            "tags": []
          },
          "execution_count": 34
        },
        {
          "output_type": "display_data",
          "data": {
            "image/png": "[encoded data removed]",
            "text/plain": [
              "<Figure size 432x288 with 1 Axes>"
            ]
          },
          "metadata": {
            "tags": [],
            "needs_background": "light"
          }
        }
      ]
    },
    {
      "cell_type": "code",
      "metadata": {
        "colab": {
          "base_uri": "https://localhost:8080/",
          "height": 282
        },
        "id": "1X6SOWQT0hUm",
        "outputId": "41271156-2b36-405a-f491-f1cbd3fd6ace"
      },
      "source": [
        "plt.plot(history.history['val_mean_absolute_error'])"
      ],
      "execution_count": null,
      "outputs": [
        {
          "output_type": "execute_result",
          "data": {
            "text/plain": [
              "[<matplotlib.lines.Line2D at 0x7f9322bf7b50>]"
            ]
          },
          "metadata": {
            "tags": []
          },
          "execution_count": 35
        },
        {
          "output_type": "display_data",
          "data": {
            "image/png": "[encoded data removed]",
            "text/plain": [
              "<Figure size 432x288 with 1 Axes>"
            ]
          },
          "metadata": {
            "tags": [],
            "needs_background": "light"
          }
        }
      ]
    },
    {
      "cell_type": "markdown",
      "metadata": {
        "id": "0Qpo6Nht0u3z"
      },
      "source": [
        "According to our graphs we see that metrics for our training dataset is lower than metrics for our testing dataset which means that there is maybe overfitting in our model"
      ]
    },
    {
      "cell_type": "code",
      "metadata": {
        "colab": {
          "base_uri": "https://localhost:8080/"
        },
        "id": "4s0c_GlE0ohW",
        "outputId": "ed7a6939-a470-4cad-d372-ff39f141c3ac"
      },
      "source": [
        "lstm_model.evaluate(train_ds) "
      ],
      "execution_count": null,
      "outputs": [
        {
          "output_type": "stream",
          "text": [
            "149/149 [==============================] - 0s 2ms/step - loss: 2.1330 - mean_absolute_error: 0.9977\n"
          ],
          "name": "stdout"
        },
        {
          "output_type": "execute_result",
          "data": {
            "text/plain": [
              "[2.132997512817383, 0.9977338910102844]"
            ]
          },
          "metadata": {
            "tags": []
          },
          "execution_count": 36
        }
      ]
    },
    {
      "cell_type": "code",
      "metadata": {
        "colab": {
          "base_uri": "https://localhost:8080/"
        },
        "id": "ub68R4tS1F83",
        "outputId": "62f9e5bb-0892-4154-b5de-395d4f2a5218"
      },
      "source": [
        "lstm_model.evaluate(test_ds)"
      ],
      "execution_count": null,
      "outputs": [
        {
          "output_type": "stream",
          "text": [
            "36/36 [==============================] - 0s 2ms/step - loss: 309.4473 - mean_absolute_error: 13.5293\n"
          ],
          "name": "stdout"
        },
        {
          "output_type": "execute_result",
          "data": {
            "text/plain": [
              "[309.447265625, 13.52931022644043]"
            ]
          },
          "metadata": {
            "tags": []
          },
          "execution_count": 37
        }
      ]
    },
    {
      "cell_type": "markdown",
      "metadata": {
        "id": "1gZScaF01N5R"
      },
      "source": [
        "According of model evaluation results we see that there is a clear sign of overfitting with train ds evaluation of mean_abs_error being almost 1 and test ds evaluation of mean_abs_error being near 13,5"
      ]
    },
    {
      "cell_type": "code",
      "metadata": {
        "id": "V31P5GBe1LmB"
      },
      "source": [
        "lstm_model1 = tf.keras.models.Sequential([\n",
        "    tf.keras.layers.LSTM(32, return_sequences=False),\n",
        "    tf.keras.layers.Dense(1)\n",
        "])\n",
        "history1 = compile_and_fit(lstm_model1, train_ds, test_ds, num_epochs = 500)"
      ],
      "execution_count": null,
      "outputs": []
    },
    {
      "cell_type": "code",
      "metadata": {
        "colab": {
          "base_uri": "https://localhost:8080/"
        },
        "id": "7AVD6sI11yZe",
        "outputId": "9ea84092-a2f4-460b-a83d-5ae46408ed96"
      },
      "source": [
        "lstm_model1.evaluate(train_ds)"
      ],
      "execution_count": null,
      "outputs": [
        {
          "output_type": "stream",
          "text": [
            "149/149 [==============================] - 0s 2ms/step - loss: 1.6950 - mean_absolute_error: 0.9035\n"
          ],
          "name": "stdout"
        },
        {
          "output_type": "execute_result",
          "data": {
            "text/plain": [
              "[1.6949591636657715, 0.9034568667411804]"
            ]
          },
          "metadata": {
            "tags": []
          },
          "execution_count": 40
        }
      ]
    },
    {
      "cell_type": "code",
      "metadata": {
        "colab": {
          "base_uri": "https://localhost:8080/"
        },
        "id": "cqcjGjZ_3jNl",
        "outputId": "cc98998d-a5ce-4984-cdad-abcec1b833ef"
      },
      "source": [
        "lstm_model1.evaluate(test_ds)"
      ],
      "execution_count": null,
      "outputs": [
        {
          "output_type": "stream",
          "text": [
            "36/36 [==============================] - 0s 2ms/step - loss: 738.6609 - mean_absolute_error: 20.6332\n"
          ],
          "name": "stdout"
        },
        {
          "output_type": "execute_result",
          "data": {
            "text/plain": [
              "[738.660888671875, 20.633195877075195]"
            ]
          },
          "metadata": {
            "tags": []
          },
          "execution_count": 41
        }
      ]
    },
    {
      "cell_type": "markdown",
      "metadata": {
        "id": "HECVufpr3noU"
      },
      "source": [
        "As a num_epochs value increased from 100 to 500 the mean absolute error value for test_ds evaluation increased from 13.5 to 20.6 which is a clear sign of overfitting due to the large number of epochs"
      ]
    },
    {
      "cell_type": "code",
      "metadata": {
        "colab": {
          "base_uri": "https://localhost:8080/",
          "height": 282
        },
        "id": "e1T1XNwS3lkh",
        "outputId": "55f4c1db-2c07-48a7-c0a6-1b35f27d9ffe"
      },
      "source": [
        "plt.plot(history1.history['mean_absolute_error'])"
      ],
      "execution_count": null,
      "outputs": [
        {
          "output_type": "execute_result",
          "data": {
            "text/plain": [
              "[<matplotlib.lines.Line2D at 0x7f9323e81c10>]"
            ]
          },
          "metadata": {
            "tags": []
          },
          "execution_count": 43
        },
        {
          "output_type": "display_data",
          "data": {
            "image/png": "[encoded data removed]",
            "text/plain": [
              "<Figure size 432x288 with 1 Axes>"
            ]
          },
          "metadata": {
            "tags": [],
            "needs_background": "light"
          }
        }
      ]
    },
    {
      "cell_type": "code",
      "metadata": {
        "colab": {
          "base_uri": "https://localhost:8080/",
          "height": 282
        },
        "id": "6cvkoMvb4Bhf",
        "outputId": "0e3b018b-0e68-41ec-edb2-955ece07c072"
      },
      "source": [
        "plt.plot(history1.history['val_mean_absolute_error'])"
      ],
      "execution_count": null,
      "outputs": [
        {
          "output_type": "execute_result",
          "data": {
            "text/plain": [
              "[<matplotlib.lines.Line2D at 0x7f9322b39890>]"
            ]
          },
          "metadata": {
            "tags": []
          },
          "execution_count": 44
        },
        {
          "output_type": "display_data",
          "data": {
            "image/png": "[encoded data removed]",
            "text/plain": [
              "<Figure size 432x288 with 1 Axes>"
            ]
          },
          "metadata": {
            "tags": [],
            "needs_background": "light"
          }
        }
      ]
    },
    {
      "cell_type": "markdown",
      "metadata": {
        "id": "Eu8L2n9z4Omp"
      },
      "source": [
        "We see that for of metrics graph of train dataset as num of epochs, as number of epochs increases mean absolute error of training dataset decreases all the way. But for validation dataset mean absolute error as the num of epochs increases till about 250 it decreases, but after that point it fluctuates and starts to increase "
      ]
    },
    {
      "cell_type": "code",
      "metadata": {
        "id": "etPgjU6a4Lvn"
      },
      "source": [
        "lstm_model = tf.keras.models.Sequential([\n",
        "    tf.keras.layers.LSTM(32, return_sequences=False),\n",
        "    tf.keras.layers.Dropout(0.2),\n",
        "    tf.keras.layers.Dense(1)\n",
        "])"
      ],
      "execution_count": null,
      "outputs": []
    },
    {
      "cell_type": "code",
      "metadata": {
        "id": "PBbr_0P25f3r"
      },
      "source": [
        "history = compile_and_fit(lstm_model, train_ds, test_ds, num_epochs = 500)"
      ],
      "execution_count": null,
      "outputs": []
    },
    {
      "cell_type": "markdown",
      "metadata": {
        "id": "m6vmqxEi5oHv"
      },
      "source": [
        "In order to deal with overfitting of our model, we will use dropout technique and add Dropout layer for our RNN model"
      ]
    },
    {
      "cell_type": "code",
      "metadata": {
        "colab": {
          "base_uri": "https://localhost:8080/"
        },
        "id": "twkC66in5mkG",
        "outputId": "ef3857a2-df06-4d8e-ad70-d4d8b60a420d"
      },
      "source": [
        "lstm_model.evaluate(train_ds)"
      ],
      "execution_count": null,
      "outputs": [
        {
          "output_type": "stream",
          "text": [
            "149/149 [==============================] - 0s 2ms/step - loss: 2.7774 - mean_absolute_error: 1.2629\n"
          ],
          "name": "stdout"
        },
        {
          "output_type": "execute_result",
          "data": {
            "text/plain": [
              "[2.777371406555176, 1.2628968954086304]"
            ]
          },
          "metadata": {
            "tags": []
          },
          "execution_count": 47
        }
      ]
    },
    {
      "cell_type": "code",
      "metadata": {
        "colab": {
          "base_uri": "https://localhost:8080/"
        },
        "id": "wYE7Ufo-7Hfe",
        "outputId": "d1e3e9bd-e719-4e94-f74c-d13b364da4fe"
      },
      "source": [
        "lstm_model.evaluate(test_ds)"
      ],
      "execution_count": null,
      "outputs": [
        {
          "output_type": "stream",
          "text": [
            "36/36 [==============================] - 0s 2ms/step - loss: 75.3050 - mean_absolute_error: 6.8229\n"
          ],
          "name": "stdout"
        },
        {
          "output_type": "execute_result",
          "data": {
            "text/plain": [
              "[75.3050308227539, 6.822933673858643]"
            ]
          },
          "metadata": {
            "tags": []
          },
          "execution_count": 48
        }
      ]
    },
    {
      "cell_type": "markdown",
      "metadata": {
        "id": "vK-129UJ7UHL"
      },
      "source": [
        "As we added dropout layer for our RNN model for the purpose of dealing with overfitting, mean abs error for train dataset of our new model with dropout regularization slightly increased to 1.2, but for test dataset significantly decreased from 20.6 to 6.8"
      ]
    },
    {
      "cell_type": "code",
      "metadata": {
        "colab": {
          "base_uri": "https://localhost:8080/",
          "height": 282
        },
        "id": "uAedFPlp7KK-",
        "outputId": "7d35f256-9986-499b-9603-f959519938d0"
      },
      "source": [
        "plt.plot(history.history['mean_absolute_error'])"
      ],
      "execution_count": null,
      "outputs": [
        {
          "output_type": "execute_result",
          "data": {
            "text/plain": [
              "[<matplotlib.lines.Line2D at 0x7f9320917b90>]"
            ]
          },
          "metadata": {
            "tags": []
          },
          "execution_count": 49
        },
        {
          "output_type": "display_data",
          "data": {
            "image/png": "[encoded data removed]",
            "text/plain": [
              "<Figure size 432x288 with 1 Axes>"
            ]
          },
          "metadata": {
            "tags": [],
            "needs_background": "light"
          }
        }
      ]
    },
    {
      "cell_type": "code",
      "metadata": {
        "colab": {
          "base_uri": "https://localhost:8080/",
          "height": 282
        },
        "id": "1IDTHr5O7sPS",
        "outputId": "cca8947e-a5c8-41f2-b72e-aab384a3595e"
      },
      "source": [
        "plt.plot(history.history['val_mean_absolute_error'])"
      ],
      "execution_count": null,
      "outputs": [
        {
          "output_type": "execute_result",
          "data": {
            "text/plain": [
              "[<matplotlib.lines.Line2D at 0x7f93207c7050>]"
            ]
          },
          "metadata": {
            "tags": []
          },
          "execution_count": 51
        },
        {
          "output_type": "display_data",
          "data": {
            "image/png": "[encoded data removed]",
            "text/plain": [
              "<Figure size 432x288 with 1 Axes>"
            ]
          },
          "metadata": {
            "tags": [],
            "needs_background": "light"
          }
        }
      ]
    },
    {
      "cell_type": "markdown",
      "metadata": {
        "id": "CBrEyShh72Yf"
      },
      "source": [
        ""
      ]
    },
    {
      "cell_type": "code",
      "metadata": {
        "id": "mcN4sMH27tq_"
      },
      "source": [
        ""
      ],
      "execution_count": null,
      "outputs": []
    }
  ]
}